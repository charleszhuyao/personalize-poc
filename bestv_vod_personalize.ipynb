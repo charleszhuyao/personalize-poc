{
 "cells": [
  {
   "cell_type": "code",
   "execution_count": 22,
   "id": "nutritional-analyst",
   "metadata": {},
   "outputs": [],
   "source": [
    "import time\n",
    "from time import sleep\n",
    "import json\n",
    "from datetime import datetime\n",
    "import boto3\n",
    "import pandas as pd\n",
    "import numpy as np\n",
    "\n",
    "# Configure the SDK to Personalize:\n",
    "personalize = boto3.client('personalize')\n",
    "personalize_runtime = boto3.client('personalize-runtime')\n",
    "#personalize.list_recipes()\n",
    "%store -r"
   ]
  },
  {
   "cell_type": "code",
   "execution_count": 23,
   "id": "overall-observer",
   "metadata": {},
   "outputs": [
    {
     "name": "stdout",
     "output_type": "stream",
     "text": [
      "cn-north-1\n"
     ]
    }
   ],
   "source": [
    "with open('/opt/ml/metadata/resource-metadata.json') as notebook_info:\n",
    "    data = json.load(notebook_info)\n",
    "    resource_arn = data['ResourceArn']\n",
    "    region = resource_arn.split(':')[3]\n",
    "print(region)\n",
    "bucket_name='657975005475-cn-north-1-personalizepocvod'\n",
    "role_name = \"PersonalizeRolePOC\"\n",
    "role_arn='arn:aws-cn:iam::657975005475:role/PersonalizeRolePOC'\n",
    "dataset_group_arn ='arn:aws-cn:personalize:cn-north-1:657975005475:dataset-group/bestv-vod-item-summary'"
   ]
  },
  {
   "cell_type": "code",
   "execution_count": 4,
   "id": "introductory-adoption",
   "metadata": {},
   "outputs": [],
   "source": [
    "interactions_filename = \"interactions.csv\"\n",
    "#boto3.Session().resource('s3').Bucket(bucket_name).Object(interactions_filename).upload_file(interactions_filename)\n",
    "interactions_s3DataPath = \"s3://\"+bucket_name+\"/\"+interactions_filename\n",
    "\n",
    "itemmetadata_filename = \"item-meta.csv\"\n",
    "#boto3.Session().resource('s3').Bucket(bucket_name).Object(itemmetadata_filename).upload_file(itemmetadata_filename)\n",
    "itemmetadata_s3DataPath = \"s3://\"+bucket_name+\"/\"+itemmetadata_filename"
   ]
  },
  {
   "cell_type": "code",
   "execution_count": 2,
   "id": "clinical-dover",
   "metadata": {},
   "outputs": [
    {
     "name": "stdout",
     "output_type": "stream",
     "text": [
      "{\n",
      "  \"datasetGroupArn\": \"arn:aws-cn:personalize:cn-north-1:657975005475:dataset-group/bestv-vod-item-summary\",\n",
      "  \"ResponseMetadata\": {\n",
      "    \"RequestId\": \"47fe443c-3046-49ff-befd-f6e088416717\",\n",
      "    \"HTTPStatusCode\": 200,\n",
      "    \"HTTPHeaders\": {\n",
      "      \"content-type\": \"application/x-amz-json-1.1\",\n",
      "      \"date\": \"Thu, 18 Mar 2021 04:36:48 GMT\",\n",
      "      \"x-amzn-requestid\": \"47fe443c-3046-49ff-befd-f6e088416717\",\n",
      "      \"content-length\": \"105\",\n",
      "      \"connection\": \"keep-alive\"\n",
      "    },\n",
      "    \"RetryAttempts\": 0\n",
      "  }\n",
      "}\n"
     ]
    }
   ],
   "source": [
    "create_dataset_group_response = personalize.create_dataset_group(\n",
    "    name = \"bestv-vod-item-summary\"\n",
    ")\n",
    "\n",
    "dataset_group_arn = create_dataset_group_response['datasetGroupArn']\n",
    "print(json.dumps(create_dataset_group_response, indent=2))"
   ]
  },
  {
   "cell_type": "code",
   "execution_count": 7,
   "id": "fluid-cooperation",
   "metadata": {},
   "outputs": [
    {
     "name": "stdout",
     "output_type": "stream",
     "text": [
      "DatasetGroup: ACTIVE\n"
     ]
    }
   ],
   "source": [
    "max_time = time.time() + 3*60*60 # 3 hours\n",
    "while time.time() < max_time:\n",
    "    describe_dataset_group_response = personalize.describe_dataset_group(\n",
    "        datasetGroupArn = dataset_group_arn\n",
    "    )\n",
    "    status = describe_dataset_group_response[\"datasetGroup\"][\"status\"]\n",
    "    print(\"DatasetGroup: {}\".format(status))\n",
    "    \n",
    "    if status == \"ACTIVE\" or status == \"CREATE FAILED\":\n",
    "        break\n",
    "        \n",
    "    time.sleep(60)"
   ]
  },
  {
   "cell_type": "code",
   "execution_count": 4,
   "id": "atlantic-seattle",
   "metadata": {},
   "outputs": [
    {
     "name": "stdout",
     "output_type": "stream",
     "text": [
      "{\n",
      "  \"schemaArn\": \"arn:aws-cn:personalize:cn-north-1:657975005475:schema/package_interactions\",\n",
      "  \"ResponseMetadata\": {\n",
      "    \"RequestId\": \"040d7456-8cd6-4eab-8ddd-3d0f15c0de6f\",\n",
      "    \"HTTPStatusCode\": 200,\n",
      "    \"HTTPHeaders\": {\n",
      "      \"content-type\": \"application/x-amz-json-1.1\",\n",
      "      \"date\": \"Thu, 18 Mar 2021 04:39:09 GMT\",\n",
      "      \"x-amzn-requestid\": \"040d7456-8cd6-4eab-8ddd-3d0f15c0de6f\",\n",
      "      \"content-length\": \"90\",\n",
      "      \"connection\": \"keep-alive\"\n",
      "    },\n",
      "    \"RetryAttempts\": 0\n",
      "  }\n",
      "}\n"
     ]
    }
   ],
   "source": [
    "interactions_schema = schema = {\n",
    "    \"type\": \"record\",\n",
    "    \"name\": \"Interactions\",\n",
    "    \"namespace\": \"com.amazonaws.personalize.schema\",\n",
    "    \"fields\": [\n",
    "        {\n",
    "            \"name\": \"USER_ID\",\n",
    "            \"type\": \"string\"\n",
    "        },\n",
    "        {\n",
    "            \"name\": \"ITEM_ID\",\n",
    "            \"type\": \"string\"\n",
    "        },\n",
    "        {\n",
    "            \"name\": \"TIMESTAMP\",\n",
    "            \"type\": \"long\"\n",
    "        },\n",
    "        {\n",
    "            \"name\": \"content_count\",\n",
    "            \"type\": \"int\"\n",
    "        },\n",
    "        {\n",
    "            \"name\": \"play_duration\",\n",
    "            \"type\": \"int\"\n",
    "        },\n",
    "        {\n",
    "            \"name\": \"EVENT_TYPE\",\n",
    "            \"type\": \"string\"\n",
    "        }\n",
    "    ],\n",
    "    \"version\": \"1.0\"\n",
    "}\n",
    "\n",
    "create_schema_response = personalize.create_schema(\n",
    "    name = \"package_interactions\",\n",
    "    schema = json.dumps(interactions_schema)\n",
    ")\n",
    "\n",
    "interaction_schema_arn = create_schema_response['schemaArn']\n",
    "print(json.dumps(create_schema_response, indent=2))"
   ]
  },
  {
   "cell_type": "code",
   "execution_count": 5,
   "id": "sufficient-corrections",
   "metadata": {},
   "outputs": [
    {
     "name": "stdout",
     "output_type": "stream",
     "text": [
      "{\n",
      "  \"datasetArn\": \"arn:aws-cn:personalize:cn-north-1:657975005475:dataset/bestv-vod-item-summary/INTERACTIONS\",\n",
      "  \"ResponseMetadata\": {\n",
      "    \"RequestId\": \"f115c03b-772c-46e8-9486-db0e4001e2c0\",\n",
      "    \"HTTPStatusCode\": 200,\n",
      "    \"HTTPHeaders\": {\n",
      "      \"content-type\": \"application/x-amz-json-1.1\",\n",
      "      \"date\": \"Thu, 18 Mar 2021 04:39:47 GMT\",\n",
      "      \"x-amzn-requestid\": \"f115c03b-772c-46e8-9486-db0e4001e2c0\",\n",
      "      \"content-length\": \"107\",\n",
      "      \"connection\": \"keep-alive\"\n",
      "    },\n",
      "    \"RetryAttempts\": 0\n",
      "  }\n",
      "}\n"
     ]
    }
   ],
   "source": [
    "#dataset_group_arn='arn:aws-cn:personalize:cn-north-1:657975005475:dataset-group/bestv-vod'\n",
    "dataset_type = \"INTERACTIONS\"\n",
    "create_dataset_response = personalize.create_dataset(\n",
    "    name = \"package-ints\",\n",
    "    datasetType = dataset_type,\n",
    "    datasetGroupArn = dataset_group_arn,\n",
    "    schemaArn = interaction_schema_arn\n",
    ")\n",
    "\n",
    "interactions_dataset_arn = create_dataset_response['datasetArn']\n",
    "print(json.dumps(create_dataset_response, indent=2))"
   ]
  },
  {
   "cell_type": "code",
   "execution_count": 12,
   "id": "unnecessary-meditation",
   "metadata": {},
   "outputs": [
    {
     "name": "stdout",
     "output_type": "stream",
     "text": [
      "{\n",
      "  \"datasetImportJobArn\": \"arn:aws-cn:personalize:cn-north-1:657975005475:dataset-import-job/package-import1\",\n",
      "  \"ResponseMetadata\": {\n",
      "    \"RequestId\": \"e415cb35-1ab5-4aaf-9a5b-7e6f26077c60\",\n",
      "    \"HTTPStatusCode\": 200,\n",
      "    \"HTTPHeaders\": {\n",
      "      \"content-type\": \"application/x-amz-json-1.1\",\n",
      "      \"date\": \"Thu, 18 Mar 2021 04:45:01 GMT\",\n",
      "      \"x-amzn-requestid\": \"e415cb35-1ab5-4aaf-9a5b-7e6f26077c60\",\n",
      "      \"content-length\": \"107\",\n",
      "      \"connection\": \"keep-alive\"\n",
      "    },\n",
      "    \"RetryAttempts\": 0\n",
      "  }\n",
      "}\n"
     ]
    }
   ],
   "source": [
    "create_dataset_import_job_response = personalize.create_dataset_import_job(\n",
    "    jobName = \"package-import1\",\n",
    "    datasetArn = interactions_dataset_arn,\n",
    "    dataSource = {\n",
    "        \"dataLocation\": \"s3://{}/{}\".format(bucket_name, interactions_filename)\n",
    "    },\n",
    "    roleArn = role_arn\n",
    ")\n",
    "\n",
    "dataset_import_job_arn = create_dataset_import_job_response['datasetImportJobArn']\n",
    "print(json.dumps(create_dataset_import_job_response, indent=2))"
   ]
  },
  {
   "cell_type": "code",
   "execution_count": 13,
   "id": "opponent-instrument",
   "metadata": {},
   "outputs": [
    {
     "name": "stdout",
     "output_type": "stream",
     "text": [
      "Stored 'interactions_dataset_arn' (str)\n",
      "Stored 'dataset_group_arn' (str)\n",
      "Stored 'bucket_name' (str)\n",
      "Stored 'role_arn' (str)\n",
      "Stored 'role_name' (str)\n",
      "Stored 'region' (str)\n",
      "Stored 'interaction_schema_arn' (str)\n"
     ]
    }
   ],
   "source": [
    "\n",
    "%store interactions_dataset_arn\n",
    "%store dataset_group_arn\n",
    "%store bucket_name\n",
    "%store role_arn\n",
    "%store role_name\n",
    "%store region\n",
    "%store interaction_schema_arn"
   ]
  },
  {
   "cell_type": "code",
   "execution_count": 14,
   "id": "parallel-playing",
   "metadata": {},
   "outputs": [
    {
     "name": "stdout",
     "output_type": "stream",
     "text": [
      "{\n",
      "  \"schemaArn\": \"arn:aws-cn:personalize:cn-north-1:657975005475:schema/package-item\",\n",
      "  \"ResponseMetadata\": {\n",
      "    \"RequestId\": \"f732d776-4bd8-4202-b015-53900405e2d1\",\n",
      "    \"HTTPStatusCode\": 200,\n",
      "    \"HTTPHeaders\": {\n",
      "      \"content-type\": \"application/x-amz-json-1.1\",\n",
      "      \"date\": \"Thu, 18 Mar 2021 04:48:41 GMT\",\n",
      "      \"x-amzn-requestid\": \"f732d776-4bd8-4202-b015-53900405e2d1\",\n",
      "      \"content-length\": \"82\",\n",
      "      \"connection\": \"keep-alive\"\n",
      "    },\n",
      "    \"RetryAttempts\": 0\n",
      "  }\n",
      "}\n"
     ]
    }
   ],
   "source": [
    "itemmetadata_schema = {\n",
    "    \"type\": \"record\",\n",
    "    \"name\": \"Items\",\n",
    "    \"namespace\": \"com.amazonaws.personalize.schema\",\n",
    "    \"fields\": [\n",
    "        {\n",
    "            \"name\": \"ITEM_ID\",\n",
    "            \"type\": \"string\"\n",
    "        },\n",
    "        {\n",
    "            \"name\": \"REGION\",\n",
    "            \"type\": \"string\"\n",
    "        },\n",
    "        {\n",
    "            \"name\": \"YEAR\",\n",
    "            \"type\": \"int\"\n",
    "        },\n",
    "        {\n",
    "            \"name\": \"TYPE\",\n",
    "            \"type\": \"string\"\n",
    "        },\n",
    "        {\n",
    "            \"name\": \"GENRE\",\n",
    "            \"type\": \"string\"\n",
    "        },\n",
    "        {\n",
    "            \"name\": \"ACTORS\",\n",
    "            \"type\": \"string\",\n",
    "            \"categorical\": True\n",
    "        },\n",
    "        {\n",
    "            \"name\": \"WRITERS\",\n",
    "            \"type\": \"string\",\n",
    "            \"categorical\": True\n",
    "        },\n",
    "        {\n",
    "            \"name\": \"TAGS\",\n",
    "            \"type\": \"string\",\n",
    "            \"categorical\": True\n",
    "        },\n",
    "        {\n",
    "            \"name\": \"DURATION\",\n",
    "            \"type\": \"int\"\n",
    "        }\n",
    "        \n",
    "    ],\n",
    "    \"version\": \"1.0\"\n",
    "}\n",
    "\n",
    "create_schema_response = personalize.create_schema(\n",
    "    name = \"package-item\",\n",
    "    schema = json.dumps(itemmetadata_schema)\n",
    ")\n",
    "\n",
    "itemmetadataschema_arn = create_schema_response['schemaArn']\n",
    "print(json.dumps(create_schema_response, indent=2))"
   ]
  },
  {
   "cell_type": "code",
   "execution_count": 15,
   "id": "stainless-mother",
   "metadata": {},
   "outputs": [
    {
     "name": "stdout",
     "output_type": "stream",
     "text": [
      "{\n",
      "  \"datasetArn\": \"arn:aws-cn:personalize:cn-north-1:657975005475:dataset/bestv-vod-item-summary/ITEMS\",\n",
      "  \"ResponseMetadata\": {\n",
      "    \"RequestId\": \"9ceddd89-83e1-45b8-8e1e-bc70678c96a4\",\n",
      "    \"HTTPStatusCode\": 200,\n",
      "    \"HTTPHeaders\": {\n",
      "      \"content-type\": \"application/x-amz-json-1.1\",\n",
      "      \"date\": \"Thu, 18 Mar 2021 04:48:55 GMT\",\n",
      "      \"x-amzn-requestid\": \"9ceddd89-83e1-45b8-8e1e-bc70678c96a4\",\n",
      "      \"content-length\": \"100\",\n",
      "      \"connection\": \"keep-alive\"\n",
      "    },\n",
      "    \"RetryAttempts\": 0\n",
      "  }\n",
      "}\n"
     ]
    }
   ],
   "source": [
    "dataset_type = \"ITEMS\"\n",
    "create_dataset_response = personalize.create_dataset(\n",
    "    name = \"package-items\",\n",
    "    datasetType = dataset_type,\n",
    "    datasetGroupArn = dataset_group_arn,\n",
    "    schemaArn = itemmetadataschema_arn\n",
    ")\n",
    "\n",
    "items_dataset_arn = create_dataset_response['datasetArn']\n",
    "print(json.dumps(create_dataset_response, indent=2))"
   ]
  },
  {
   "cell_type": "code",
   "execution_count": 17,
   "id": "flying-commitment",
   "metadata": {},
   "outputs": [
    {
     "name": "stdout",
     "output_type": "stream",
     "text": [
      "{\n",
      "  \"datasetImportJobArn\": \"arn:aws-cn:personalize:cn-north-1:657975005475:dataset-import-job/package-item-import1\",\n",
      "  \"ResponseMetadata\": {\n",
      "    \"RequestId\": \"df5f6dbb-4cd3-49a5-9d35-e0aaa228504e\",\n",
      "    \"HTTPStatusCode\": 200,\n",
      "    \"HTTPHeaders\": {\n",
      "      \"content-type\": \"application/x-amz-json-1.1\",\n",
      "      \"date\": \"Thu, 18 Mar 2021 04:49:31 GMT\",\n",
      "      \"x-amzn-requestid\": \"df5f6dbb-4cd3-49a5-9d35-e0aaa228504e\",\n",
      "      \"content-length\": \"112\",\n",
      "      \"connection\": \"keep-alive\"\n",
      "    },\n",
      "    \"RetryAttempts\": 0\n",
      "  }\n",
      "}\n"
     ]
    }
   ],
   "source": [
    "create_dataset_import_job_response = personalize.create_dataset_import_job(\n",
    "    jobName = \"package-item-import1\",\n",
    "    datasetArn = items_dataset_arn,\n",
    "    dataSource = {\n",
    "        \"dataLocation\": \"s3://{}/{}\".format(bucket_name, itemmetadata_filename)\n",
    "    },\n",
    "    roleArn = role_arn\n",
    ")\n",
    "\n",
    "dataset_import_job_arn = create_dataset_import_job_response['datasetImportJobArn']\n",
    "print(json.dumps(create_dataset_import_job_response, indent=2))"
   ]
  },
  {
   "cell_type": "code",
   "execution_count": 18,
   "id": "cardiovascular-regular",
   "metadata": {},
   "outputs": [
    {
     "name": "stdout",
     "output_type": "stream",
     "text": [
      "Stored 'items_dataset_arn' (str)\n",
      "Stored 'itemmetadataschema_arn' (str)\n"
     ]
    }
   ],
   "source": [
    "%store items_dataset_arn\n",
    "%store itemmetadataschema_arn"
   ]
  },
  {
   "cell_type": "code",
   "execution_count": 9,
   "id": "confused-synthetic",
   "metadata": {},
   "outputs": [],
   "source": []
  },
  {
   "cell_type": "code",
   "execution_count": 10,
   "id": "cognitive-calvin",
   "metadata": {},
   "outputs": [],
   "source": [
    "rerank_recipe_arn = \"arn:aws-cn:personalize:::recipe/aws-personalized-ranking\"\n",
    "rerank_create_solution_response = personalize.create_solution(\n",
    "    name = \"package-rerank\",\n",
    "    datasetGroupArn = dataset_group_arn,\n",
    "    recipeArn = rerank_recipe_arn\n",
    ")\n",
    "\n",
    "rerank_solution_arn = rerank_create_solution_response['solutionArn']\n",
    "print(json.dumps(rerank_create_solution_response, indent=2))\n",
    "\n",
    "rerank_create_solution_version_response = personalize.create_solution_version(\n",
    "    solutionArn = rerank_solution_arn\n",
    ")\n",
    "\n",
    "rerank_solution_version_arn = rerank_create_solution_version_response['solutionVersionArn']\n",
    "print(json.dumps(rerank_create_solution_version_response, indent=2))\n",
    "\n"
   ]
  },
  {
   "cell_type": "code",
   "execution_count": null,
   "id": "oriental-acrobat",
   "metadata": {},
   "outputs": [],
   "source": [
    "rerank_solution_metrics_response = personalize.get_solution_metrics(\n",
    "    solutionVersionArn = rerank_solution_version_arn\n",
    ")\n",
    "\n",
    "print(json.dumps(rerank_solution_metrics_response, indent=2))"
   ]
  },
  {
   "cell_type": "code",
   "execution_count": 13,
   "id": "remarkable-auditor",
   "metadata": {},
   "outputs": [
    {
     "name": "stdout",
     "output_type": "stream",
     "text": [
      "{\n",
      "  \"solutionVersionArn\": \"arn:aws-cn:personalize:cn-north-1:657975005475:solution/package-userpersonalization/ddf2b6cd\",\n",
      "  \"ResponseMetadata\": {\n",
      "    \"RequestId\": \"c99a763d-ca73-4dea-bdfa-072f35a217f8\",\n",
      "    \"HTTPStatusCode\": 200,\n",
      "    \"HTTPHeaders\": {\n",
      "      \"content-type\": \"application/x-amz-json-1.1\",\n",
      "      \"date\": \"Thu, 18 Mar 2021 06:40:14 GMT\",\n",
      "      \"x-amzn-requestid\": \"c99a763d-ca73-4dea-bdfa-072f35a217f8\",\n",
      "      \"content-length\": \"117\",\n",
      "      \"connection\": \"keep-alive\"\n",
      "    },\n",
      "    \"RetryAttempts\": 0\n",
      "  }\n",
      "}\n"
     ]
    }
   ],
   "source": [
    "user_personalization_recipe_arn = \"arn:aws-cn:personalize:::recipe/aws-user-personalization\"\n",
    "user_personalization_create_solution_response = personalize.create_solution(\n",
    "    name = \"package-userpersonalization\",\n",
    "    datasetGroupArn = dataset_group_arn,\n",
    "    recipeArn = user_personalization_recipe_arn\n",
    ")\n",
    "\n",
    "user_personalization_solution_arn = user_personalization_create_solution_response['solutionArn']\n",
    "userpersonalization_create_solution_version_response = personalize.create_solution_version(\n",
    "    solutionArn = user_personalization_solution_arn\n",
    ")\n",
    "userpersonalization_solution_version_arn = userpersonalization_create_solution_version_response['solutionVersionArn']\n",
    "print(json.dumps(userpersonalization_create_solution_version_response, indent=2))"
   ]
  },
  {
   "cell_type": "code",
   "execution_count": 40,
   "id": "rural-picking",
   "metadata": {},
   "outputs": [
    {
     "name": "stdout",
     "output_type": "stream",
     "text": [
      "{\n",
      "  \"solutionVersionArn\": \"arn:aws-cn:personalize:cn-north-1:657975005475:solution/personalize-poc-userpersonalization/c576c750\",\n",
      "  \"metrics\": {\n",
      "    \"coverage\": 0.1915,\n",
      "    \"mean_reciprocal_rank_at_25\": 0.0388,\n",
      "    \"normalized_discounted_cumulative_gain_at_10\": 0.0513,\n",
      "    \"normalized_discounted_cumulative_gain_at_25\": 0.067,\n",
      "    \"normalized_discounted_cumulative_gain_at_5\": 0.0429,\n",
      "    \"precision_at_10\": 0.0081,\n",
      "    \"precision_at_25\": 0.0059,\n",
      "    \"precision_at_5\": 0.0112\n",
      "  },\n",
      "  \"ResponseMetadata\": {\n",
      "    \"RequestId\": \"5160f97c-4f55-41af-914a-96ab30a774df\",\n",
      "    \"HTTPStatusCode\": 200,\n",
      "    \"HTTPHeaders\": {\n",
      "      \"content-type\": \"application/x-amz-json-1.1\",\n",
      "      \"date\": \"Mon, 15 Mar 2021 03:59:16 GMT\",\n",
      "      \"x-amzn-requestid\": \"5160f97c-4f55-41af-914a-96ab30a774df\",\n",
      "      \"content-length\": \"422\",\n",
      "      \"connection\": \"keep-alive\"\n",
      "    },\n",
      "    \"RetryAttempts\": 0\n",
      "  }\n",
      "}\n"
     ]
    }
   ],
   "source": [
    "user_personalization_solution_metrics_response = personalize.get_solution_metrics(\n",
    "    solutionVersionArn = userpersonalization_solution_version_arn\n",
    ")\n",
    "\n",
    "print(json.dumps(user_personalization_solution_metrics_response, indent=2))"
   ]
  },
  {
   "cell_type": "code",
   "execution_count": 14,
   "id": "rapid-concord",
   "metadata": {},
   "outputs": [
    {
     "name": "stdout",
     "output_type": "stream",
     "text": [
      "{\n",
      "  \"solutionArn\": \"arn:aws-cn:personalize:cn-north-1:657975005475:solution/package-sims\",\n",
      "  \"ResponseMetadata\": {\n",
      "    \"RequestId\": \"8f00853e-9df8-4453-bc7f-aadb95381b69\",\n",
      "    \"HTTPStatusCode\": 200,\n",
      "    \"HTTPHeaders\": {\n",
      "      \"content-type\": \"application/x-amz-json-1.1\",\n",
      "      \"date\": \"Thu, 18 Mar 2021 06:40:41 GMT\",\n",
      "      \"x-amzn-requestid\": \"8f00853e-9df8-4453-bc7f-aadb95381b69\",\n",
      "      \"content-length\": \"86\",\n",
      "      \"connection\": \"keep-alive\"\n",
      "    },\n",
      "    \"RetryAttempts\": 0\n",
      "  }\n",
      "}\n",
      "{\n",
      "  \"solutionVersionArn\": \"arn:aws-cn:personalize:cn-north-1:657975005475:solution/package-sims/f43f7e36\",\n",
      "  \"ResponseMetadata\": {\n",
      "    \"RequestId\": \"b5eefa50-a584-4904-97f1-57c18f4862fd\",\n",
      "    \"HTTPStatusCode\": 200,\n",
      "    \"HTTPHeaders\": {\n",
      "      \"content-type\": \"application/x-amz-json-1.1\",\n",
      "      \"date\": \"Thu, 18 Mar 2021 06:40:41 GMT\",\n",
      "      \"x-amzn-requestid\": \"b5eefa50-a584-4904-97f1-57c18f4862fd\",\n",
      "      \"content-length\": \"102\",\n",
      "      \"connection\": \"keep-alive\"\n",
      "    },\n",
      "    \"RetryAttempts\": 0\n",
      "  }\n",
      "}\n"
     ]
    }
   ],
   "source": [
    "SIMS_recipe_arn = \"arn:aws-cn:personalize:::recipe/aws-sims\"\n",
    "sims_create_solution_response = personalize.create_solution(\n",
    "    name = \"package-sims\",\n",
    "    datasetGroupArn = dataset_group_arn,\n",
    "    recipeArn = SIMS_recipe_arn\n",
    ")\n",
    "\n",
    "sims_solution_arn = sims_create_solution_response['solutionArn']\n",
    "print(json.dumps(sims_create_solution_response, indent=2))\n",
    "sims_create_solution_version_response = personalize.create_solution_version(\n",
    "    solutionArn = sims_solution_arn\n",
    ")\n",
    "\n",
    "sims_solution_version_arn = sims_create_solution_version_response['solutionVersionArn']\n",
    "print(json.dumps(sims_create_solution_version_response, indent=2))\n"
   ]
  },
  {
   "cell_type": "code",
   "execution_count": 41,
   "id": "identified-period",
   "metadata": {},
   "outputs": [
    {
     "name": "stdout",
     "output_type": "stream",
     "text": [
      "{\n",
      "  \"solutionVersionArn\": \"arn:aws-cn:personalize:cn-north-1:657975005475:solution/personalize-poc-sims/1bd4541f\",\n",
      "  \"metrics\": {\n",
      "    \"coverage\": 0.0022,\n",
      "    \"mean_reciprocal_rank_at_25\": 0.02,\n",
      "    \"normalized_discounted_cumulative_gain_at_10\": 0.0304,\n",
      "    \"normalized_discounted_cumulative_gain_at_25\": 0.0346,\n",
      "    \"normalized_discounted_cumulative_gain_at_5\": 0.0246,\n",
      "    \"precision_at_10\": 0.0051,\n",
      "    \"precision_at_25\": 0.0027,\n",
      "    \"precision_at_5\": 0.0068\n",
      "  },\n",
      "  \"ResponseMetadata\": {\n",
      "    \"RequestId\": \"f65acbb6-f9da-4455-90b8-f898fc05cd07\",\n",
      "    \"HTTPStatusCode\": 200,\n",
      "    \"HTTPHeaders\": {\n",
      "      \"content-type\": \"application/x-amz-json-1.1\",\n",
      "      \"date\": \"Mon, 15 Mar 2021 04:00:15 GMT\",\n",
      "      \"x-amzn-requestid\": \"f65acbb6-f9da-4455-90b8-f898fc05cd07\",\n",
      "      \"content-length\": \"406\",\n",
      "      \"connection\": \"keep-alive\"\n",
      "    },\n",
      "    \"RetryAttempts\": 0\n",
      "  }\n",
      "}\n"
     ]
    }
   ],
   "source": [
    "sims_solution_metrics_response = personalize.get_solution_metrics(\n",
    "    solutionVersionArn = sims_solution_version_arn\n",
    ")\n",
    "\n",
    "print(json.dumps(sims_solution_metrics_response, indent=2))"
   ]
  },
  {
   "cell_type": "code",
   "execution_count": 25,
   "id": "still-limitation",
   "metadata": {},
   "outputs": [
    {
     "name": "stdout",
     "output_type": "stream",
     "text": [
      "{\n",
      "    \"solutionVersions\": [\n",
      "        {\n",
      "            \"solutionVersionArn\": \"arn:aws-cn:personalize:cn-north-1:657975005475:solution/package-rerank/2f9f5ec2\",\n",
      "            \"status\": \"ACTIVE\",\n",
      "            \"creationDateTime\": 1616049565.135,\n",
      "            \"lastUpdatedDateTime\": 1616052485.244\n",
      "        },\n",
      "        {\n",
      "            \"solutionVersionArn\": \"arn:aws-cn:personalize:cn-north-1:657975005475:solution/package-sims/f43f7e36\",\n",
      "            \"status\": \"ACTIVE\",\n",
      "            \"creationDateTime\": 1616049642.134,\n",
      "            \"lastUpdatedDateTime\": 1616051662.209\n",
      "        },\n",
      "        {\n",
      "            \"solutionVersionArn\": \"arn:aws-cn:personalize:cn-north-1:657975005475:solution/package-userpersonalization/ddf2b6cd\",\n",
      "            \"status\": \"ACTIVE\",\n",
      "            \"creationDateTime\": 1616049615.097,\n",
      "            \"lastUpdatedDateTime\": 1616052481.162\n",
      "        },\n",
      "        {\n",
      "            \"solutionVersionArn\": \"arn:aws-cn:personalize:cn-north-1:657975005475:solution/personalize-poc-rerank/2b69c7c5\",\n",
      "            \"status\": \"ACTIVE\",\n",
      "            \"creationDateTime\": 1615777788.487,\n",
      "            \"lastUpdatedDateTime\": 1615780176.771\n",
      "        },\n",
      "        {\n",
      "            \"solutionVersionArn\": \"arn:aws-cn:personalize:cn-north-1:657975005475:solution/personalize-poc-sims/1bd4541f\",\n",
      "            \"status\": \"ACTIVE\",\n",
      "            \"creationDateTime\": 1615778383.195,\n",
      "            \"lastUpdatedDateTime\": 1615780238.98\n",
      "        },\n",
      "        {\n",
      "            \"solutionVersionArn\": \"arn:aws-cn:personalize:cn-north-1:657975005475:solution/personalize-poc-userpersonalization/c576c750\",\n",
      "            \"status\": \"ACTIVE\",\n",
      "            \"creationDateTime\": 1615778121.896,\n",
      "            \"lastUpdatedDateTime\": 1615780344.828\n",
      "        }\n",
      "    ]\n",
      "}\n"
     ]
    }
   ],
   "source": [
    "!aws personalize list-solution-versions --region cn-north-1"
   ]
  },
  {
   "cell_type": "code",
   "execution_count": null,
   "id": "central-reservoir",
   "metadata": {},
   "outputs": [],
   "source": [
    "%store userpersonalization_solution_version_arn\n",
    "%store sims_solution_version_arn\n",
    "%store rerank_solution_version_arn\n",
    "%store user_personalization_solution_arn\n",
    "%store sims_solution_arn\n",
    "%store rerank_solution_arn"
   ]
  },
  {
   "cell_type": "code",
   "execution_count": null,
   "id": "closing-machine",
   "metadata": {},
   "outputs": [
    {
     "name": "stdout",
     "output_type": "stream",
     "text": [
      "Building arn:aws-cn:personalize:cn-north-1:657975005475:solution/package-userpersonalization/ddf2b6cd\n",
      "Building arn:aws-cn:personalize:cn-north-1:657975005475:solution/package-sims/f43f7e36\n",
      "Building arn:aws-cn:personalize:cn-north-1:657975005475:solution/package-rerank/2f9f5ec2\n",
      "The Current date is: 1616049672.1623232\n",
      "Building arn:aws-cn:personalize:cn-north-1:657975005475:solution/package-userpersonalization/ddf2b6cd\n",
      "Building arn:aws-cn:personalize:cn-north-1:657975005475:solution/package-sims/f43f7e36\n",
      "Building arn:aws-cn:personalize:cn-north-1:657975005475:solution/package-rerank/2f9f5ec2\n",
      "The Current date is: 1616049792.57503\n",
      "Building arn:aws-cn:personalize:cn-north-1:657975005475:solution/package-userpersonalization/ddf2b6cd\n",
      "Building arn:aws-cn:personalize:cn-north-1:657975005475:solution/package-sims/f43f7e36\n",
      "Building arn:aws-cn:personalize:cn-north-1:657975005475:solution/package-rerank/2f9f5ec2\n",
      "The Current date is: 1616049912.8511617\n",
      "Building arn:aws-cn:personalize:cn-north-1:657975005475:solution/package-userpersonalization/ddf2b6cd\n",
      "Building arn:aws-cn:personalize:cn-north-1:657975005475:solution/package-sims/f43f7e36\n",
      "Building arn:aws-cn:personalize:cn-north-1:657975005475:solution/package-rerank/2f9f5ec2\n",
      "The Current date is: 1616050033.0782313\n",
      "Building arn:aws-cn:personalize:cn-north-1:657975005475:solution/package-userpersonalization/ddf2b6cd\n",
      "Building arn:aws-cn:personalize:cn-north-1:657975005475:solution/package-sims/f43f7e36\n",
      "Building arn:aws-cn:personalize:cn-north-1:657975005475:solution/package-rerank/2f9f5ec2\n",
      "The Current date is: 1616050153.2921395\n",
      "Building arn:aws-cn:personalize:cn-north-1:657975005475:solution/package-userpersonalization/ddf2b6cd\n",
      "Building arn:aws-cn:personalize:cn-north-1:657975005475:solution/package-sims/f43f7e36\n",
      "Building arn:aws-cn:personalize:cn-north-1:657975005475:solution/package-rerank/2f9f5ec2\n",
      "The Current date is: 1616050273.4736297\n",
      "Building arn:aws-cn:personalize:cn-north-1:657975005475:solution/package-userpersonalization/ddf2b6cd\n",
      "Building arn:aws-cn:personalize:cn-north-1:657975005475:solution/package-sims/f43f7e36\n",
      "Building arn:aws-cn:personalize:cn-north-1:657975005475:solution/package-rerank/2f9f5ec2\n",
      "The Current date is: 1616050393.653394\n",
      "Building arn:aws-cn:personalize:cn-north-1:657975005475:solution/package-userpersonalization/ddf2b6cd\n",
      "Building arn:aws-cn:personalize:cn-north-1:657975005475:solution/package-sims/f43f7e36\n",
      "Building arn:aws-cn:personalize:cn-north-1:657975005475:solution/package-rerank/2f9f5ec2\n",
      "The Current date is: 1616050513.8332512\n",
      "Building arn:aws-cn:personalize:cn-north-1:657975005475:solution/package-userpersonalization/ddf2b6cd\n",
      "Building arn:aws-cn:personalize:cn-north-1:657975005475:solution/package-sims/f43f7e36\n",
      "Building arn:aws-cn:personalize:cn-north-1:657975005475:solution/package-rerank/2f9f5ec2\n",
      "The Current date is: 1616051115.0437496\n"
     ]
    }
   ],
   "source": [
    "in_progress_solution_versions = [\n",
    "    userpersonalization_solution_version_arn,\n",
    "    sims_solution_version_arn,\n",
    "    rerank_solution_version_arn\n",
    "]\n",
    "\n",
    "max_time = time.time() + 10*60*60 # 10 hours\n",
    "while time.time() < max_time:\n",
    "    for solution_version_arn in in_progress_solution_versions:\n",
    "        version_response = personalize.describe_solution_version(\n",
    "            solutionVersionArn = solution_version_arn\n",
    "        )\n",
    "        status = version_response[\"solutionVersion\"][\"status\"]\n",
    "        \n",
    "        if status == \"ACTIVE\":\n",
    "            print(\"Build succeeded for {}\".format(solution_version_arn))\n",
    "            in_progress_solution_versions.remove(solution_version_arn)\n",
    "        elif status == \"CREATE FAILED\":\n",
    "            print(\"Build failed for {}\".format(solution_version_arn))\n",
    "            in_progress_solution_versions.remove(solution_version_arn)\n",
    "        else:\n",
    "            print(\"Building {}\".format(solution_version_arn))\n",
    "    if len(in_progress_solution_versions) <= 0:\n",
    "        break\n",
    "    else:\n",
    "        print(\"The Current date is:\" ,time.time())\n",
    "        \n",
    "    time.sleep(120)"
   ]
  },
  {
   "cell_type": "code",
   "execution_count": null,
   "id": "mineral-campaign",
   "metadata": {},
   "outputs": [],
   "source": []
  }
 ],
 "metadata": {
  "kernelspec": {
   "display_name": "conda_python3",
   "language": "python",
   "name": "conda_python3"
  },
  "language_info": {
   "codemirror_mode": {
    "name": "ipython",
    "version": 3
   },
   "file_extension": ".py",
   "mimetype": "text/x-python",
   "name": "python",
   "nbconvert_exporter": "python",
   "pygments_lexer": "ipython3",
   "version": "3.6.13"
  }
 },
 "nbformat": 4,
 "nbformat_minor": 5
}
